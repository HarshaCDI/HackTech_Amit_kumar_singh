{
  "nbformat": 4,
  "nbformat_minor": 0,
  "metadata": {
    "colab": {
      "provenance": [],
      "gpuType": "T4"
    },
    "kernelspec": {
      "name": "python3",
      "display_name": "Python 3"
    },
    "language_info": {
      "name": "python"
    },
    "accelerator": "GPU"
  },
  "cells": [
    {
      "cell_type": "code",
      "execution_count": 1,
      "metadata": {
        "colab": {
          "base_uri": "https://localhost:8080/"
        },
        "id": "Gcqvxl8Q3IxF",
        "outputId": "02a6ec1b-2511-45f2-b373-960d79dbe02b"
      },
      "outputs": [
        {
          "output_type": "stream",
          "name": "stdout",
          "text": [
            "Hello\n"
          ]
        }
      ],
      "source": [
        "print(\"Hello\")"
      ]
    },
    {
      "cell_type": "code",
      "source": [
        "!git clone https://github.com/itheaks/HackTech_Showcasing.git"
      ],
      "metadata": {
        "colab": {
          "base_uri": "https://localhost:8080/"
        },
        "id": "gm9sDuWP35-2",
        "outputId": "9320a6d0-cc57-4709-8c9c-9653cb8575ec"
      },
      "execution_count": 1,
      "outputs": [
        {
          "output_type": "stream",
          "name": "stdout",
          "text": [
            "Cloning into 'HackTech_Showcasing'...\n",
            "remote: Enumerating objects: 228, done.\u001b[K\n",
            "remote: Counting objects: 100% (67/67), done.\u001b[K\n",
            "remote: Compressing objects: 100% (56/56), done.\u001b[K\n",
            "remote: Total 228 (delta 11), reused 58 (delta 10), pack-reused 161\u001b[K\n",
            "Receiving objects: 100% (228/228), 207.61 MiB | 34.79 MiB/s, done.\n",
            "Resolving deltas: 100% (33/33), done.\n",
            "Updating files: 100% (203/203), done.\n"
          ]
        }
      ]
    },
    {
      "cell_type": "code",
      "source": [
        "%cd /content/HackTech_Showcasing\n"
      ],
      "metadata": {
        "colab": {
          "base_uri": "https://localhost:8080/"
        },
        "id": "kMuek9bx4C4E",
        "outputId": "b5160d2c-4783-48d3-bcdd-014ef7821f2d"
      },
      "execution_count": 2,
      "outputs": [
        {
          "output_type": "stream",
          "name": "stdout",
          "text": [
            "/content/HackTech_Showcasing\n"
          ]
        }
      ]
    },
    {
      "cell_type": "code",
      "source": [
        "!pip install -e '.[dev]'"
      ],
      "metadata": {
        "colab": {
          "base_uri": "https://localhost:8080/",
          "height": 1000
        },
        "id": "LGjIDMLc4Mhc",
        "outputId": "489b575d-08e3-4e0c-aa8d-edf91da29fa0"
      },
      "execution_count": 3,
      "outputs": [
        {
          "output_type": "stream",
          "name": "stdout",
          "text": [
            "Obtaining file:///content/HackTech_Showcasing\n",
            "  Preparing metadata (setup.py) ... \u001b[?25l\u001b[?25hdone\n",
            "Collecting hydra-core>=1.2.0 (from ultralytics==8.0.3)\n",
            "  Downloading hydra_core-1.3.2-py3-none-any.whl (154 kB)\n",
            "\u001b[2K     \u001b[90m━━━━━━━━━━━━━━━━━━━━━━━━━━━━━━━━━━━━━━━━\u001b[0m \u001b[32m154.5/154.5 kB\u001b[0m \u001b[31m2.0 MB/s\u001b[0m eta \u001b[36m0:00:00\u001b[0m\n",
            "\u001b[?25hRequirement already satisfied: matplotlib>=3.2.2 in /usr/local/lib/python3.10/dist-packages (from ultralytics==8.0.3) (3.7.1)\n",
            "Requirement already satisfied: numpy>=1.18.5 in /usr/local/lib/python3.10/dist-packages (from ultralytics==8.0.3) (1.23.5)\n",
            "Requirement already satisfied: opencv-python>=4.1.1 in /usr/local/lib/python3.10/dist-packages (from ultralytics==8.0.3) (4.8.0.76)\n",
            "Requirement already satisfied: Pillow>=7.1.2 in /usr/local/lib/python3.10/dist-packages (from ultralytics==8.0.3) (9.4.0)\n",
            "Requirement already satisfied: PyYAML>=5.3.1 in /usr/local/lib/python3.10/dist-packages (from ultralytics==8.0.3) (6.0.1)\n",
            "Requirement already satisfied: requests>=2.23.0 in /usr/local/lib/python3.10/dist-packages (from ultralytics==8.0.3) (2.31.0)\n",
            "Requirement already satisfied: scipy>=1.4.1 in /usr/local/lib/python3.10/dist-packages (from ultralytics==8.0.3) (1.11.4)\n",
            "Requirement already satisfied: torch>=1.7.0 in /usr/local/lib/python3.10/dist-packages (from ultralytics==8.0.3) (2.1.0+cu118)\n",
            "Requirement already satisfied: torchvision>=0.8.1 in /usr/local/lib/python3.10/dist-packages (from ultralytics==8.0.3) (0.16.0+cu118)\n",
            "Requirement already satisfied: tqdm>=4.64.0 in /usr/local/lib/python3.10/dist-packages (from ultralytics==8.0.3) (4.66.1)\n",
            "Requirement already satisfied: tensorboard>=2.4.1 in /usr/local/lib/python3.10/dist-packages (from ultralytics==8.0.3) (2.14.1)\n",
            "Requirement already satisfied: pandas>=1.1.4 in /usr/local/lib/python3.10/dist-packages (from ultralytics==8.0.3) (1.5.3)\n",
            "Requirement already satisfied: seaborn>=0.11.0 in /usr/local/lib/python3.10/dist-packages (from ultralytics==8.0.3) (0.12.2)\n",
            "Requirement already satisfied: ipython in /usr/local/lib/python3.10/dist-packages (from ultralytics==8.0.3) (7.34.0)\n",
            "Requirement already satisfied: psutil in /usr/local/lib/python3.10/dist-packages (from ultralytics==8.0.3) (5.9.5)\n",
            "Collecting thop>=0.1.1 (from ultralytics==8.0.3)\n",
            "  Downloading thop-0.1.1.post2209072238-py3-none-any.whl (15 kB)\n",
            "Collecting GitPython>=3.1.24 (from ultralytics==8.0.3)\n",
            "  Downloading GitPython-3.1.40-py3-none-any.whl (190 kB)\n",
            "\u001b[2K     \u001b[90m━━━━━━━━━━━━━━━━━━━━━━━━━━━━━━━━━━━━━━━━\u001b[0m \u001b[32m190.6/190.6 kB\u001b[0m \u001b[31m5.9 MB/s\u001b[0m eta \u001b[36m0:00:00\u001b[0m\n",
            "\u001b[?25hCollecting check-manifest (from ultralytics==8.0.3)\n",
            "  Downloading check_manifest-0.49-py3-none-any.whl (20 kB)\n",
            "Requirement already satisfied: pytest in /usr/local/lib/python3.10/dist-packages (from ultralytics==8.0.3) (7.4.3)\n",
            "Collecting pytest-cov (from ultralytics==8.0.3)\n",
            "  Downloading pytest_cov-4.1.0-py3-none-any.whl (21 kB)\n",
            "Collecting coverage (from ultralytics==8.0.3)\n",
            "  Downloading coverage-7.3.2-cp310-cp310-manylinux_2_5_x86_64.manylinux1_x86_64.manylinux_2_17_x86_64.manylinux2014_x86_64.whl (227 kB)\n",
            "\u001b[2K     \u001b[90m━━━━━━━━━━━━━━━━━━━━━━━━━━━━━━━━━━━━━━━━\u001b[0m \u001b[32m227.5/227.5 kB\u001b[0m \u001b[31m19.3 MB/s\u001b[0m eta \u001b[36m0:00:00\u001b[0m\n",
            "\u001b[?25hCollecting mkdocs (from ultralytics==8.0.3)\n",
            "  Downloading mkdocs-1.5.3-py3-none-any.whl (3.7 MB)\n",
            "\u001b[2K     \u001b[90m━━━━━━━━━━━━━━━━━━━━━━━━━━━━━━━━━━━━━━━━\u001b[0m \u001b[32m3.7/3.7 MB\u001b[0m \u001b[31m37.6 MB/s\u001b[0m eta \u001b[36m0:00:00\u001b[0m\n",
            "\u001b[?25hCollecting mkdocstrings[python] (from ultralytics==8.0.3)\n",
            "  Downloading mkdocstrings-0.24.0-py3-none-any.whl (28 kB)\n",
            "Collecting mkdocs-material (from ultralytics==8.0.3)\n",
            "  Downloading mkdocs_material-9.5.2-py3-none-any.whl (8.5 MB)\n",
            "\u001b[2K     \u001b[90m━━━━━━━━━━━━━━━━━━━━━━━━━━━━━━━━━━━━━━━━\u001b[0m \u001b[32m8.5/8.5 MB\u001b[0m \u001b[31m93.6 MB/s\u001b[0m eta \u001b[36m0:00:00\u001b[0m\n",
            "\u001b[?25hCollecting gitdb<5,>=4.0.1 (from GitPython>=3.1.24->ultralytics==8.0.3)\n",
            "  Downloading gitdb-4.0.11-py3-none-any.whl (62 kB)\n",
            "\u001b[2K     \u001b[90m━━━━━━━━━━━━━━━━━━━━━━━━━━━━━━━━━━━━━━━━\u001b[0m \u001b[32m62.7/62.7 kB\u001b[0m \u001b[31m7.8 MB/s\u001b[0m eta \u001b[36m0:00:00\u001b[0m\n",
            "\u001b[?25hCollecting omegaconf<2.4,>=2.2 (from hydra-core>=1.2.0->ultralytics==8.0.3)\n",
            "  Downloading omegaconf-2.3.0-py3-none-any.whl (79 kB)\n",
            "\u001b[2K     \u001b[90m━━━━━━━━━━━━━━━━━━━━━━━━━━━━━━━━━━━━━━━━\u001b[0m \u001b[32m79.5/79.5 kB\u001b[0m \u001b[31m10.9 MB/s\u001b[0m eta \u001b[36m0:00:00\u001b[0m\n",
            "\u001b[?25hCollecting antlr4-python3-runtime==4.9.* (from hydra-core>=1.2.0->ultralytics==8.0.3)\n",
            "  Downloading antlr4-python3-runtime-4.9.3.tar.gz (117 kB)\n",
            "\u001b[2K     \u001b[90m━━━━━━━━━━━━━━━━━━━━━━━━━━━━━━━━━━━━━━━━\u001b[0m \u001b[32m117.0/117.0 kB\u001b[0m \u001b[31m14.1 MB/s\u001b[0m eta \u001b[36m0:00:00\u001b[0m\n",
            "\u001b[?25h  Preparing metadata (setup.py) ... \u001b[?25l\u001b[?25hdone\n",
            "Requirement already satisfied: packaging in /usr/local/lib/python3.10/dist-packages (from hydra-core>=1.2.0->ultralytics==8.0.3) (23.2)\n",
            "Requirement already satisfied: contourpy>=1.0.1 in /usr/local/lib/python3.10/dist-packages (from matplotlib>=3.2.2->ultralytics==8.0.3) (1.2.0)\n",
            "Requirement already satisfied: cycler>=0.10 in /usr/local/lib/python3.10/dist-packages (from matplotlib>=3.2.2->ultralytics==8.0.3) (0.12.1)\n",
            "Requirement already satisfied: fonttools>=4.22.0 in /usr/local/lib/python3.10/dist-packages (from matplotlib>=3.2.2->ultralytics==8.0.3) (4.45.1)\n",
            "Requirement already satisfied: kiwisolver>=1.0.1 in /usr/local/lib/python3.10/dist-packages (from matplotlib>=3.2.2->ultralytics==8.0.3) (1.4.5)\n",
            "Requirement already satisfied: pyparsing>=2.3.1 in /usr/local/lib/python3.10/dist-packages (from matplotlib>=3.2.2->ultralytics==8.0.3) (3.1.1)\n",
            "Requirement already satisfied: python-dateutil>=2.7 in /usr/local/lib/python3.10/dist-packages (from matplotlib>=3.2.2->ultralytics==8.0.3) (2.8.2)\n",
            "Requirement already satisfied: pytz>=2020.1 in /usr/local/lib/python3.10/dist-packages (from pandas>=1.1.4->ultralytics==8.0.3) (2023.3.post1)\n",
            "Requirement already satisfied: charset-normalizer<4,>=2 in /usr/local/lib/python3.10/dist-packages (from requests>=2.23.0->ultralytics==8.0.3) (3.3.2)\n",
            "Requirement already satisfied: idna<4,>=2.5 in /usr/local/lib/python3.10/dist-packages (from requests>=2.23.0->ultralytics==8.0.3) (3.6)\n",
            "Requirement already satisfied: urllib3<3,>=1.21.1 in /usr/local/lib/python3.10/dist-packages (from requests>=2.23.0->ultralytics==8.0.3) (2.0.7)\n",
            "Requirement already satisfied: certifi>=2017.4.17 in /usr/local/lib/python3.10/dist-packages (from requests>=2.23.0->ultralytics==8.0.3) (2023.11.17)\n",
            "Requirement already satisfied: absl-py>=0.4 in /usr/local/lib/python3.10/dist-packages (from tensorboard>=2.4.1->ultralytics==8.0.3) (1.4.0)\n",
            "Requirement already satisfied: grpcio>=1.48.2 in /usr/local/lib/python3.10/dist-packages (from tensorboard>=2.4.1->ultralytics==8.0.3) (1.59.3)\n",
            "Requirement already satisfied: google-auth<3,>=1.6.3 in /usr/local/lib/python3.10/dist-packages (from tensorboard>=2.4.1->ultralytics==8.0.3) (2.17.3)\n",
            "Requirement already satisfied: google-auth-oauthlib<1.1,>=0.5 in /usr/local/lib/python3.10/dist-packages (from tensorboard>=2.4.1->ultralytics==8.0.3) (1.0.0)\n",
            "Requirement already satisfied: markdown>=2.6.8 in /usr/local/lib/python3.10/dist-packages (from tensorboard>=2.4.1->ultralytics==8.0.3) (3.5.1)\n",
            "Requirement already satisfied: protobuf>=3.19.6 in /usr/local/lib/python3.10/dist-packages (from tensorboard>=2.4.1->ultralytics==8.0.3) (3.20.3)\n",
            "Requirement already satisfied: setuptools>=41.0.0 in /usr/local/lib/python3.10/dist-packages (from tensorboard>=2.4.1->ultralytics==8.0.3) (67.7.2)\n",
            "Requirement already satisfied: six>1.9 in /usr/local/lib/python3.10/dist-packages (from tensorboard>=2.4.1->ultralytics==8.0.3) (1.16.0)\n",
            "Requirement already satisfied: tensorboard-data-server<0.8.0,>=0.7.0 in /usr/local/lib/python3.10/dist-packages (from tensorboard>=2.4.1->ultralytics==8.0.3) (0.7.2)\n",
            "Requirement already satisfied: werkzeug>=1.0.1 in /usr/local/lib/python3.10/dist-packages (from tensorboard>=2.4.1->ultralytics==8.0.3) (3.0.1)\n",
            "Requirement already satisfied: filelock in /usr/local/lib/python3.10/dist-packages (from torch>=1.7.0->ultralytics==8.0.3) (3.13.1)\n",
            "Requirement already satisfied: typing-extensions in /usr/local/lib/python3.10/dist-packages (from torch>=1.7.0->ultralytics==8.0.3) (4.5.0)\n",
            "Requirement already satisfied: sympy in /usr/local/lib/python3.10/dist-packages (from torch>=1.7.0->ultralytics==8.0.3) (1.12)\n",
            "Requirement already satisfied: networkx in /usr/local/lib/python3.10/dist-packages (from torch>=1.7.0->ultralytics==8.0.3) (3.2.1)\n",
            "Requirement already satisfied: jinja2 in /usr/local/lib/python3.10/dist-packages (from torch>=1.7.0->ultralytics==8.0.3) (3.1.2)\n",
            "Requirement already satisfied: fsspec in /usr/local/lib/python3.10/dist-packages (from torch>=1.7.0->ultralytics==8.0.3) (2023.6.0)\n",
            "Requirement already satisfied: triton==2.1.0 in /usr/local/lib/python3.10/dist-packages (from torch>=1.7.0->ultralytics==8.0.3) (2.1.0)\n",
            "Requirement already satisfied: build>=0.1 in /usr/local/lib/python3.10/dist-packages (from check-manifest->ultralytics==8.0.3) (1.0.3)\n",
            "Requirement already satisfied: tomli in /usr/local/lib/python3.10/dist-packages (from check-manifest->ultralytics==8.0.3) (2.0.1)\n",
            "Collecting jedi>=0.16 (from ipython->ultralytics==8.0.3)\n",
            "  Downloading jedi-0.19.1-py2.py3-none-any.whl (1.6 MB)\n",
            "\u001b[2K     \u001b[90m━━━━━━━━━━━━━━━━━━━━━━━━━━━━━━━━━━━━━━━━\u001b[0m \u001b[32m1.6/1.6 MB\u001b[0m \u001b[31m94.2 MB/s\u001b[0m eta \u001b[36m0:00:00\u001b[0m\n",
            "\u001b[?25hRequirement already satisfied: decorator in /usr/local/lib/python3.10/dist-packages (from ipython->ultralytics==8.0.3) (4.4.2)\n",
            "Requirement already satisfied: pickleshare in /usr/local/lib/python3.10/dist-packages (from ipython->ultralytics==8.0.3) (0.7.5)\n",
            "Requirement already satisfied: traitlets>=4.2 in /usr/local/lib/python3.10/dist-packages (from ipython->ultralytics==8.0.3) (5.7.1)\n",
            "Requirement already satisfied: prompt-toolkit!=3.0.0,!=3.0.1,<3.1.0,>=2.0.0 in /usr/local/lib/python3.10/dist-packages (from ipython->ultralytics==8.0.3) (3.0.41)\n",
            "Requirement already satisfied: pygments in /usr/local/lib/python3.10/dist-packages (from ipython->ultralytics==8.0.3) (2.16.1)\n",
            "Requirement already satisfied: backcall in /usr/local/lib/python3.10/dist-packages (from ipython->ultralytics==8.0.3) (0.2.0)\n",
            "Requirement already satisfied: matplotlib-inline in /usr/local/lib/python3.10/dist-packages (from ipython->ultralytics==8.0.3) (0.1.6)\n",
            "Requirement already satisfied: pexpect>4.3 in /usr/local/lib/python3.10/dist-packages (from ipython->ultralytics==8.0.3) (4.9.0)\n",
            "Requirement already satisfied: click>=7.0 in /usr/local/lib/python3.10/dist-packages (from mkdocs->ultralytics==8.0.3) (8.1.7)\n",
            "Collecting ghp-import>=1.0 (from mkdocs->ultralytics==8.0.3)\n",
            "  Downloading ghp_import-2.1.0-py3-none-any.whl (11 kB)\n",
            "Requirement already satisfied: markupsafe>=2.0.1 in /usr/local/lib/python3.10/dist-packages (from mkdocs->ultralytics==8.0.3) (2.1.3)\n",
            "Collecting mergedeep>=1.3.4 (from mkdocs->ultralytics==8.0.3)\n",
            "  Downloading mergedeep-1.3.4-py3-none-any.whl (6.4 kB)\n",
            "Collecting pathspec>=0.11.1 (from mkdocs->ultralytics==8.0.3)\n",
            "  Downloading pathspec-0.12.1-py3-none-any.whl (31 kB)\n",
            "Requirement already satisfied: platformdirs>=2.2.0 in /usr/local/lib/python3.10/dist-packages (from mkdocs->ultralytics==8.0.3) (4.0.0)\n",
            "Collecting pyyaml-env-tag>=0.1 (from mkdocs->ultralytics==8.0.3)\n",
            "  Downloading pyyaml_env_tag-0.1-py3-none-any.whl (3.9 kB)\n",
            "Collecting watchdog>=2.0 (from mkdocs->ultralytics==8.0.3)\n",
            "  Downloading watchdog-3.0.0-py3-none-manylinux2014_x86_64.whl (82 kB)\n",
            "\u001b[2K     \u001b[90m━━━━━━━━━━━━━━━━━━━━━━━━━━━━━━━━━━━━━━━━\u001b[0m \u001b[32m82.1/82.1 kB\u001b[0m \u001b[31m10.9 MB/s\u001b[0m eta \u001b[36m0:00:00\u001b[0m\n",
            "\u001b[?25hRequirement already satisfied: babel~=2.10 in /usr/local/lib/python3.10/dist-packages (from mkdocs-material->ultralytics==8.0.3) (2.13.1)\n",
            "Collecting colorama~=0.4 (from mkdocs-material->ultralytics==8.0.3)\n",
            "  Downloading colorama-0.4.6-py2.py3-none-any.whl (25 kB)\n",
            "Collecting mkdocs-material-extensions~=1.3 (from mkdocs-material->ultralytics==8.0.3)\n",
            "  Downloading mkdocs_material_extensions-1.3.1-py3-none-any.whl (8.7 kB)\n",
            "Collecting paginate~=0.5 (from mkdocs-material->ultralytics==8.0.3)\n",
            "  Downloading paginate-0.5.6.tar.gz (12 kB)\n",
            "  Preparing metadata (setup.py) ... \u001b[?25l\u001b[?25hdone\n",
            "Collecting pymdown-extensions~=10.2 (from mkdocs-material->ultralytics==8.0.3)\n",
            "  Downloading pymdown_extensions-10.5-py3-none-any.whl (241 kB)\n",
            "\u001b[2K     \u001b[90m━━━━━━━━━━━━━━━━━━━━━━━━━━━━━━━━━━━━━━━━\u001b[0m \u001b[32m241.1/241.1 kB\u001b[0m \u001b[31m30.8 MB/s\u001b[0m eta \u001b[36m0:00:00\u001b[0m\n",
            "\u001b[?25hRequirement already satisfied: regex>=2022.4 in /usr/local/lib/python3.10/dist-packages (from mkdocs-material->ultralytics==8.0.3) (2023.6.3)\n",
            "Collecting mkdocs-autorefs>=0.3.1 (from mkdocstrings[python]->ultralytics==8.0.3)\n",
            "  Downloading mkdocs_autorefs-0.5.0-py3-none-any.whl (9.6 kB)\n",
            "Collecting mkdocstrings-python>=0.5.2 (from mkdocstrings[python]->ultralytics==8.0.3)\n",
            "  Downloading mkdocstrings_python-1.7.5-py3-none-any.whl (53 kB)\n",
            "\u001b[2K     \u001b[90m━━━━━━━━━━━━━━━━━━━━━━━━━━━━━━━━━━━━━━━━\u001b[0m \u001b[32m53.8/53.8 kB\u001b[0m \u001b[31m7.3 MB/s\u001b[0m eta \u001b[36m0:00:00\u001b[0m\n",
            "\u001b[?25hRequirement already satisfied: iniconfig in /usr/local/lib/python3.10/dist-packages (from pytest->ultralytics==8.0.3) (2.0.0)\n",
            "Requirement already satisfied: pluggy<2.0,>=0.12 in /usr/local/lib/python3.10/dist-packages (from pytest->ultralytics==8.0.3) (1.3.0)\n",
            "Requirement already satisfied: exceptiongroup>=1.0.0rc8 in /usr/local/lib/python3.10/dist-packages (from pytest->ultralytics==8.0.3) (1.2.0)\n",
            "Requirement already satisfied: pyproject_hooks in /usr/local/lib/python3.10/dist-packages (from build>=0.1->check-manifest->ultralytics==8.0.3) (1.0.0)\n",
            "Collecting smmap<6,>=3.0.1 (from gitdb<5,>=4.0.1->GitPython>=3.1.24->ultralytics==8.0.3)\n",
            "  Downloading smmap-5.0.1-py3-none-any.whl (24 kB)\n",
            "Requirement already satisfied: cachetools<6.0,>=2.0.0 in /usr/local/lib/python3.10/dist-packages (from google-auth<3,>=1.6.3->tensorboard>=2.4.1->ultralytics==8.0.3) (5.3.2)\n",
            "Requirement already satisfied: pyasn1-modules>=0.2.1 in /usr/local/lib/python3.10/dist-packages (from google-auth<3,>=1.6.3->tensorboard>=2.4.1->ultralytics==8.0.3) (0.3.0)\n",
            "Requirement already satisfied: rsa<5,>=3.1.4 in /usr/local/lib/python3.10/dist-packages (from google-auth<3,>=1.6.3->tensorboard>=2.4.1->ultralytics==8.0.3) (4.9)\n",
            "Requirement already satisfied: requests-oauthlib>=0.7.0 in /usr/local/lib/python3.10/dist-packages (from google-auth-oauthlib<1.1,>=0.5->tensorboard>=2.4.1->ultralytics==8.0.3) (1.3.1)\n",
            "Requirement already satisfied: parso<0.9.0,>=0.8.3 in /usr/local/lib/python3.10/dist-packages (from jedi>=0.16->ipython->ultralytics==8.0.3) (0.8.3)\n",
            "Collecting griffe>=0.37 (from mkdocstrings-python>=0.5.2->mkdocstrings[python]->ultralytics==8.0.3)\n",
            "  Downloading griffe-0.38.1-py3-none-any.whl (1.0 MB)\n",
            "\u001b[2K     \u001b[90m━━━━━━━━━━━━━━━━━━━━━━━━━━━━━━━━━━━━━━━━\u001b[0m \u001b[32m1.0/1.0 MB\u001b[0m \u001b[31m59.3 MB/s\u001b[0m eta \u001b[36m0:00:00\u001b[0m\n",
            "\u001b[?25hRequirement already satisfied: ptyprocess>=0.5 in /usr/local/lib/python3.10/dist-packages (from pexpect>4.3->ipython->ultralytics==8.0.3) (0.7.0)\n",
            "Requirement already satisfied: wcwidth in /usr/local/lib/python3.10/dist-packages (from prompt-toolkit!=3.0.0,!=3.0.1,<3.1.0,>=2.0.0->ipython->ultralytics==8.0.3) (0.2.12)\n",
            "Requirement already satisfied: mpmath>=0.19 in /usr/local/lib/python3.10/dist-packages (from sympy->torch>=1.7.0->ultralytics==8.0.3) (1.3.0)\n",
            "Requirement already satisfied: pyasn1<0.6.0,>=0.4.6 in /usr/local/lib/python3.10/dist-packages (from pyasn1-modules>=0.2.1->google-auth<3,>=1.6.3->tensorboard>=2.4.1->ultralytics==8.0.3) (0.5.1)\n",
            "Requirement already satisfied: oauthlib>=3.0.0 in /usr/local/lib/python3.10/dist-packages (from requests-oauthlib>=0.7.0->google-auth-oauthlib<1.1,>=0.5->tensorboard>=2.4.1->ultralytics==8.0.3) (3.2.2)\n",
            "Building wheels for collected packages: antlr4-python3-runtime, paginate\n",
            "  Building wheel for antlr4-python3-runtime (setup.py) ... \u001b[?25l\u001b[?25hdone\n",
            "  Created wheel for antlr4-python3-runtime: filename=antlr4_python3_runtime-4.9.3-py3-none-any.whl size=144554 sha256=8603621b21444b6391ae0281a4090ac5fa7945729dbe2e11fcbef5a4513c4ebf\n",
            "  Stored in directory: /root/.cache/pip/wheels/12/93/dd/1f6a127edc45659556564c5730f6d4e300888f4bca2d4c5a88\n",
            "  Building wheel for paginate (setup.py) ... \u001b[?25l\u001b[?25hdone\n",
            "  Created wheel for paginate: filename=paginate-0.5.6-py3-none-any.whl size=12666 sha256=27102815c4e3a26b095ad5e5492609dcc45fee4ed17e9df0845a0049af7b6567\n",
            "  Stored in directory: /root/.cache/pip/wheels/47/d3/18/0b5bebc873f29bea61fedece1e92cbcbef416839dfe5bd0eef\n",
            "Successfully built antlr4-python3-runtime paginate\n",
            "Installing collected packages: paginate, antlr4-python3-runtime, watchdog, smmap, pyyaml-env-tag, pymdown-extensions, pathspec, omegaconf, mkdocs-material-extensions, mergedeep, jedi, coverage, colorama, hydra-core, griffe, gitdb, ghp-import, thop, pytest-cov, mkdocs, GitPython, check-manifest, mkdocs-material, mkdocs-autorefs, ultralytics, mkdocstrings, mkdocstrings-python\n",
            "  Running setup.py develop for ultralytics\n",
            "Successfully installed GitPython-3.1.40 antlr4-python3-runtime-4.9.3 check-manifest-0.49 colorama-0.4.6 coverage-7.3.2 ghp-import-2.1.0 gitdb-4.0.11 griffe-0.38.1 hydra-core-1.3.2 jedi-0.19.1 mergedeep-1.3.4 mkdocs-1.5.3 mkdocs-autorefs-0.5.0 mkdocs-material-9.5.2 mkdocs-material-extensions-1.3.1 mkdocstrings-0.24.0 mkdocstrings-python-1.7.5 omegaconf-2.3.0 paginate-0.5.6 pathspec-0.12.1 pymdown-extensions-10.5 pytest-cov-4.1.0 pyyaml-env-tag-0.1 smmap-5.0.1 thop-0.1.1.post2209072238 ultralytics-8.0.3 watchdog-3.0.0\n"
          ]
        },
        {
          "output_type": "display_data",
          "data": {
            "application/vnd.colab-display-data+json": {
              "pip_warning": {
                "packages": [
                  "pydevd_plugins"
                ]
              }
            }
          },
          "metadata": {}
        }
      ]
    },
    {
      "cell_type": "code",
      "source": [
        "%cd /content/HackTech_Showcasing/ultralytics/yolo/v8/detect"
      ],
      "metadata": {
        "colab": {
          "base_uri": "https://localhost:8080/"
        },
        "id": "wd7hOOIy4Tfx",
        "outputId": "71d16730-ce09-4c82-d7d4-dfb2e6292f38"
      },
      "execution_count": 1,
      "outputs": [
        {
          "output_type": "stream",
          "name": "stdout",
          "text": [
            "/content/HackTech_Showcasing/ultralytics/yolo/v8/detect\n"
          ]
        }
      ]
    },
    {
      "cell_type": "code",
      "source": [
        "from google.colab import drive\n",
        "drive.mount('/content/drive')"
      ],
      "metadata": {
        "colab": {
          "base_uri": "https://localhost:8080/"
        },
        "id": "RjqLBkYq4jcr",
        "outputId": "03253b84-5f88-48db-9699-15e2955b5ef6"
      },
      "execution_count": 2,
      "outputs": [
        {
          "output_type": "stream",
          "name": "stdout",
          "text": [
            "Mounted at /content/drive\n"
          ]
        }
      ]
    },
    {
      "cell_type": "code",
      "source": [
        "!python predict.py model=yolov8n.pt source=\"/content/drive/MyDrive/Time Pass/sample.mp4\""
      ],
      "metadata": {
        "colab": {
          "base_uri": "https://localhost:8080/"
        },
        "id": "wBkvOaly4xjO",
        "outputId": "c2fd5df8-79aa-43e9-d6c1-16acdaae1217"
      },
      "execution_count": 3,
      "outputs": [
        {
          "output_type": "stream",
          "name": "stdout",
          "text": [
            "[2023-12-11 17:20:44,381][root.tracker][INFO] - Loading weights from deep_sort_pytorch/deep_sort/deep/checkpoint/ckpt.t7... Done!\n",
            "2023-12-11 17:20:44.705518: E tensorflow/compiler/xla/stream_executor/cuda/cuda_dnn.cc:9342] Unable to register cuDNN factory: Attempting to register factory for plugin cuDNN when one has already been registered\n",
            "2023-12-11 17:20:44.705572: E tensorflow/compiler/xla/stream_executor/cuda/cuda_fft.cc:609] Unable to register cuFFT factory: Attempting to register factory for plugin cuFFT when one has already been registered\n",
            "2023-12-11 17:20:44.705612: E tensorflow/compiler/xla/stream_executor/cuda/cuda_blas.cc:1518] Unable to register cuBLAS factory: Attempting to register factory for plugin cuBLAS when one has already been registered\n",
            "2023-12-11 17:20:45.676537: W tensorflow/compiler/tf2tensorrt/utils/py_utils.cc:38] TF-TRT Warning: Could not find TensorRT\n",
            "Ultralytics YOLOv8.0.3 🚀 Python-3.10.12 torch-2.1.0+cu118 CUDA:0 (Tesla T4, 15102MiB)\n",
            "Downloading https://github.com/ultralytics/assets/releases/download/v0.0.0/yolov8n.pt to yolov8n.pt...\n",
            "100% 6.23M/6.23M [00:00<00:00, 76.3MB/s]\n",
            "\n",
            "Fusing layers... \n",
            "YOLOv8n summary: 168 layers, 3151904 parameters, 0 gradients, 8.7 GFLOPs\n",
            "video 1/1 (1/150) /content/drive/MyDrive/Time Pass/sample.mp4: 480x640 9 cars, 4 buss, 1 truck, 1 boat, 59.9ms\n",
            "video 1/1 (2/150) /content/drive/MyDrive/Time Pass/sample.mp4: 480x640 9 cars, 4 buss, 1 truck, 6.7ms\n",
            "video 1/1 (3/150) /content/drive/MyDrive/Time Pass/sample.mp4: 480x640 9 cars, 5 buss, 1 truck, 1 boat, 6.4ms\n",
            "video 1/1 (4/150) /content/drive/MyDrive/Time Pass/sample.mp4: 480x640 10 cars, 4 buss, 1 truck, 6.3ms\n",
            "video 1/1 (5/150) /content/drive/MyDrive/Time Pass/sample.mp4: 480x640 9 cars, 5 buss, 1 truck, 7.5ms\n",
            "video 1/1 (6/150) /content/drive/MyDrive/Time Pass/sample.mp4: 480x640 9 cars, 2 buss, 1 truck, 7.6ms\n",
            "video 1/1 (7/150) /content/drive/MyDrive/Time Pass/sample.mp4: 480x640 9 cars, 1 bus, 1 truck, 11.8ms\n",
            "video 1/1 (8/150) /content/drive/MyDrive/Time Pass/sample.mp4: 480x640 11 cars, 1 bus, 1 truck, 9.5ms\n",
            "video 1/1 (9/150) /content/drive/MyDrive/Time Pass/sample.mp4: 480x640 11 cars, 1 bus, 1 truck, 7.7ms\n",
            "video 1/1 (10/150) /content/drive/MyDrive/Time Pass/sample.mp4: 480x640 11 cars, 4 buss, 1 truck, 7.4ms\n",
            "video 1/1 (11/150) /content/drive/MyDrive/Time Pass/sample.mp4: 480x640 12 cars, 4 buss, 1 truck, 7.8ms\n",
            "video 1/1 (12/150) /content/drive/MyDrive/Time Pass/sample.mp4: 480x640 11 cars, 4 buss, 1 truck, 7.6ms\n",
            "video 1/1 (13/150) /content/drive/MyDrive/Time Pass/sample.mp4: 480x640 9 cars, 3 buss, 1 truck, 7.4ms\n",
            "video 1/1 (14/150) /content/drive/MyDrive/Time Pass/sample.mp4: 480x640 10 cars, 3 buss, 1 truck, 7.5ms\n",
            "video 1/1 (15/150) /content/drive/MyDrive/Time Pass/sample.mp4: 480x640 8 cars, 4 buss, 1 truck, 7.5ms\n",
            "video 1/1 (16/150) /content/drive/MyDrive/Time Pass/sample.mp4: 480x640 8 cars, 5 buss, 1 truck, 7.8ms\n",
            "video 1/1 (17/150) /content/drive/MyDrive/Time Pass/sample.mp4: 480x640 8 cars, 5 buss, 1 truck, 7.6ms\n",
            "video 1/1 (18/150) /content/drive/MyDrive/Time Pass/sample.mp4: 480x640 9 cars, 5 buss, 2 trucks, 7.5ms\n",
            "video 1/1 (19/150) /content/drive/MyDrive/Time Pass/sample.mp4: 480x640 9 cars, 5 buss, 2 trucks, 7.6ms\n",
            "video 1/1 (20/150) /content/drive/MyDrive/Time Pass/sample.mp4: 480x640 8 cars, 5 buss, 2 trucks, 7.9ms\n",
            "video 1/1 (21/150) /content/drive/MyDrive/Time Pass/sample.mp4: 480x640 8 cars, 4 buss, 2 trucks, 11.8ms\n",
            "video 1/1 (22/150) /content/drive/MyDrive/Time Pass/sample.mp4: 480x640 10 cars, 3 buss, 2 trucks, 7.6ms\n",
            "video 1/1 (23/150) /content/drive/MyDrive/Time Pass/sample.mp4: 480x640 10 cars, 4 buss, 1 truck, 7.8ms\n",
            "video 1/1 (24/150) /content/drive/MyDrive/Time Pass/sample.mp4: 480x640 9 cars, 4 buss, 1 truck, 7.6ms\n",
            "video 1/1 (25/150) /content/drive/MyDrive/Time Pass/sample.mp4: 480x640 8 cars, 4 buss, 1 truck, 11.5ms\n",
            "video 1/1 (26/150) /content/drive/MyDrive/Time Pass/sample.mp4: 480x640 8 cars, 4 buss, 1 truck, 7.6ms\n",
            "video 1/1 (27/150) /content/drive/MyDrive/Time Pass/sample.mp4: 480x640 10 cars, 4 buss, 2 trucks, 7.9ms\n",
            "video 1/1 (28/150) /content/drive/MyDrive/Time Pass/sample.mp4: 480x640 10 cars, 4 buss, 9.7ms\n",
            "video 1/1 (29/150) /content/drive/MyDrive/Time Pass/sample.mp4: 480x640 12 cars, 5 buss, 7.6ms\n",
            "video 1/1 (30/150) /content/drive/MyDrive/Time Pass/sample.mp4: 480x640 11 cars, 5 buss, 7.8ms\n",
            "video 1/1 (31/150) /content/drive/MyDrive/Time Pass/sample.mp4: 480x640 11 cars, 6 buss, 7.9ms\n",
            "video 1/1 (32/150) /content/drive/MyDrive/Time Pass/sample.mp4: 480x640 12 cars, 4 buss, 1 truck, 14.5ms\n",
            "video 1/1 (33/150) /content/drive/MyDrive/Time Pass/sample.mp4: 480x640 14 cars, 5 buss, 10.5ms\n",
            "video 1/1 (34/150) /content/drive/MyDrive/Time Pass/sample.mp4: 480x640 10 cars, 4 buss, 7.8ms\n",
            "video 1/1 (35/150) /content/drive/MyDrive/Time Pass/sample.mp4: 480x640 10 cars, 5 buss, 7.5ms\n",
            "video 1/1 (36/150) /content/drive/MyDrive/Time Pass/sample.mp4: 480x640 10 cars, 5 buss, 7.8ms\n",
            "video 1/1 (37/150) /content/drive/MyDrive/Time Pass/sample.mp4: 480x640 12 cars, 4 buss, 12.4ms\n",
            "video 1/1 (38/150) /content/drive/MyDrive/Time Pass/sample.mp4: 480x640 13 cars, 4 buss, 8.1ms\n",
            "video 1/1 (39/150) /content/drive/MyDrive/Time Pass/sample.mp4: 480x640 12 cars, 5 buss, 7.9ms\n",
            "video 1/1 (40/150) /content/drive/MyDrive/Time Pass/sample.mp4: 480x640 11 cars, 5 buss, 9.4ms\n",
            "video 1/1 (41/150) /content/drive/MyDrive/Time Pass/sample.mp4: 480x640 9 cars, 7 buss, 8.0ms\n",
            "video 1/1 (42/150) /content/drive/MyDrive/Time Pass/sample.mp4: 480x640 9 cars, 6 buss, 16.7ms\n",
            "video 1/1 (43/150) /content/drive/MyDrive/Time Pass/sample.mp4: 480x640 10 cars, 4 buss, 12.4ms\n",
            "video 1/1 (44/150) /content/drive/MyDrive/Time Pass/sample.mp4: 480x640 10 cars, 7 buss, 10.9ms\n",
            "video 1/1 (45/150) /content/drive/MyDrive/Time Pass/sample.mp4: 480x640 9 cars, 7 buss, 20.7ms\n",
            "video 1/1 (46/150) /content/drive/MyDrive/Time Pass/sample.mp4: 480x640 10 cars, 8 buss, 16.9ms\n",
            "video 1/1 (47/150) /content/drive/MyDrive/Time Pass/sample.mp4: 480x640 10 cars, 8 buss, 8.0ms\n",
            "video 1/1 (48/150) /content/drive/MyDrive/Time Pass/sample.mp4: 480x640 9 cars, 8 buss, 8.0ms\n",
            "video 1/1 (49/150) /content/drive/MyDrive/Time Pass/sample.mp4: 480x640 7 cars, 7 buss, 13.7ms\n",
            "video 1/1 (50/150) /content/drive/MyDrive/Time Pass/sample.mp4: 480x640 6 cars, 10 buss, 8.1ms\n",
            "video 1/1 (51/150) /content/drive/MyDrive/Time Pass/sample.mp4: 480x640 7 cars, 8 buss, 23.6ms\n",
            "video 1/1 (52/150) /content/drive/MyDrive/Time Pass/sample.mp4: 480x640 9 cars, 7 buss, 26.4ms\n",
            "video 1/1 (53/150) /content/drive/MyDrive/Time Pass/sample.mp4: 480x640 10 cars, 6 buss, 7.8ms\n",
            "video 1/1 (54/150) /content/drive/MyDrive/Time Pass/sample.mp4: 480x640 8 cars, 8 buss, 17.4ms\n",
            "video 1/1 (55/150) /content/drive/MyDrive/Time Pass/sample.mp4: 480x640 8 cars, 9 buss, 12.0ms\n",
            "video 1/1 (56/150) /content/drive/MyDrive/Time Pass/sample.mp4: 480x640 5 cars, 9 buss, 7.8ms\n",
            "video 1/1 (57/150) /content/drive/MyDrive/Time Pass/sample.mp4: 480x640 8 cars, 7 buss, 1 truck, 17.0ms\n",
            "video 1/1 (58/150) /content/drive/MyDrive/Time Pass/sample.mp4: 480x640 8 cars, 6 buss, 1 truck, 15.6ms\n",
            "video 1/1 (59/150) /content/drive/MyDrive/Time Pass/sample.mp4: 480x640 6 cars, 10 buss, 18.8ms\n",
            "video 1/1 (60/150) /content/drive/MyDrive/Time Pass/sample.mp4: 480x640 6 cars, 8 buss, 17.0ms\n",
            "video 1/1 (61/150) /content/drive/MyDrive/Time Pass/sample.mp4: 480x640 6 cars, 7 buss, 2 trucks, 22.4ms\n",
            "video 1/1 (62/150) /content/drive/MyDrive/Time Pass/sample.mp4: 480x640 6 cars, 8 buss, 8.0ms\n",
            "video 1/1 (63/150) /content/drive/MyDrive/Time Pass/sample.mp4: 480x640 6 cars, 7 buss, 8.4ms\n",
            "video 1/1 (64/150) /content/drive/MyDrive/Time Pass/sample.mp4: 480x640 7 cars, 7 buss, 8.5ms\n",
            "video 1/1 (65/150) /content/drive/MyDrive/Time Pass/sample.mp4: 480x640 8 cars, 6 buss, 12.1ms\n",
            "video 1/1 (66/150) /content/drive/MyDrive/Time Pass/sample.mp4: 480x640 7 cars, 9 buss, 10.8ms\n",
            "video 1/1 (67/150) /content/drive/MyDrive/Time Pass/sample.mp4: 480x640 7 cars, 9 buss, 8.3ms\n",
            "video 1/1 (68/150) /content/drive/MyDrive/Time Pass/sample.mp4: 480x640 7 cars, 7 buss, 17.1ms\n",
            "video 1/1 (69/150) /content/drive/MyDrive/Time Pass/sample.mp4: 480x640 7 cars, 6 buss, 16.9ms\n",
            "video 1/1 (70/150) /content/drive/MyDrive/Time Pass/sample.mp4: 480x640 6 cars, 7 buss, 8.0ms\n",
            "video 1/1 (71/150) /content/drive/MyDrive/Time Pass/sample.mp4: 480x640 5 cars, 8 buss, 16.7ms\n",
            "video 1/1 (72/150) /content/drive/MyDrive/Time Pass/sample.mp4: 480x640 6 cars, 8 buss, 17.1ms\n",
            "video 1/1 (73/150) /content/drive/MyDrive/Time Pass/sample.mp4: 480x640 6 cars, 8 buss, 17.4ms\n",
            "video 1/1 (74/150) /content/drive/MyDrive/Time Pass/sample.mp4: 480x640 6 cars, 6 buss, 1 truck, 19.0ms\n",
            "video 1/1 (75/150) /content/drive/MyDrive/Time Pass/sample.mp4: 480x640 5 cars, 6 buss, 8.3ms\n",
            "video 1/1 (76/150) /content/drive/MyDrive/Time Pass/sample.mp4: 480x640 5 cars, 6 buss, 7.8ms\n",
            "video 1/1 (77/150) /content/drive/MyDrive/Time Pass/sample.mp4: 480x640 6 cars, 7 buss, 15.9ms\n",
            "video 1/1 (78/150) /content/drive/MyDrive/Time Pass/sample.mp4: 480x640 6 cars, 9 buss, 18.0ms\n",
            "video 1/1 (79/150) /content/drive/MyDrive/Time Pass/sample.mp4: 480x640 8 cars, 9 buss, 1 truck, 15.4ms\n",
            "video 1/1 (80/150) /content/drive/MyDrive/Time Pass/sample.mp4: 480x640 8 cars, 7 buss, 7.9ms\n",
            "video 1/1 (81/150) /content/drive/MyDrive/Time Pass/sample.mp4: 480x640 6 cars, 8 buss, 15.5ms\n",
            "video 1/1 (82/150) /content/drive/MyDrive/Time Pass/sample.mp4: 480x640 7 cars, 8 buss, 12.8ms\n",
            "video 1/1 (83/150) /content/drive/MyDrive/Time Pass/sample.mp4: 480x640 6 cars, 9 buss, 9.1ms\n",
            "video 1/1 (84/150) /content/drive/MyDrive/Time Pass/sample.mp4: 480x640 6 cars, 9 buss, 7.9ms\n",
            "video 1/1 (85/150) /content/drive/MyDrive/Time Pass/sample.mp4: 480x640 7 cars, 9 buss, 12.9ms\n",
            "video 1/1 (86/150) /content/drive/MyDrive/Time Pass/sample.mp4: 480x640 6 cars, 8 buss, 7.5ms\n",
            "video 1/1 (87/150) /content/drive/MyDrive/Time Pass/sample.mp4: 480x640 8 cars, 7 buss, 17.8ms\n",
            "video 1/1 (88/150) /content/drive/MyDrive/Time Pass/sample.mp4: 480x640 8 cars, 9 buss, 8.3ms\n",
            "video 1/1 (89/150) /content/drive/MyDrive/Time Pass/sample.mp4: 480x640 6 cars, 7 buss, 15.7ms\n",
            "video 1/1 (90/150) /content/drive/MyDrive/Time Pass/sample.mp4: 480x640 4 cars, 9 buss, 1 truck, 11.0ms\n",
            "video 1/1 (91/150) /content/drive/MyDrive/Time Pass/sample.mp4: 480x640 4 cars, 6 buss, 8.5ms\n",
            "video 1/1 (92/150) /content/drive/MyDrive/Time Pass/sample.mp4: 480x640 3 cars, 7 buss, 8.5ms\n",
            "video 1/1 (93/150) /content/drive/MyDrive/Time Pass/sample.mp4: 480x640 5 cars, 6 buss, 12.0ms\n",
            "video 1/1 (94/150) /content/drive/MyDrive/Time Pass/sample.mp4: 480x640 5 cars, 6 buss, 9.0ms\n",
            "video 1/1 (95/150) /content/drive/MyDrive/Time Pass/sample.mp4: 480x640 5 cars, 5 buss, 10.9ms\n",
            "video 1/1 (96/150) /content/drive/MyDrive/Time Pass/sample.mp4: 480x640 3 cars, 8 buss, 10.6ms\n",
            "video 1/1 (97/150) /content/drive/MyDrive/Time Pass/sample.mp4: 480x640 5 cars, 7 buss, 12.7ms\n",
            "video 1/1 (98/150) /content/drive/MyDrive/Time Pass/sample.mp4: 480x640 6 cars, 6 buss, 13.1ms\n",
            "video 1/1 (99/150) /content/drive/MyDrive/Time Pass/sample.mp4: 480x640 6 cars, 6 buss, 9.0ms\n",
            "video 1/1 (100/150) /content/drive/MyDrive/Time Pass/sample.mp4: 480x640 4 cars, 7 buss, 8.3ms\n",
            "video 1/1 (101/150) /content/drive/MyDrive/Time Pass/sample.mp4: 480x640 4 cars, 5 buss, 9.1ms\n",
            "video 1/1 (102/150) /content/drive/MyDrive/Time Pass/sample.mp4: 480x640 7 cars, 5 buss, 12.8ms\n",
            "video 1/1 (103/150) /content/drive/MyDrive/Time Pass/sample.mp4: 480x640 6 cars, 5 buss, 7.8ms\n",
            "video 1/1 (104/150) /content/drive/MyDrive/Time Pass/sample.mp4: 480x640 6 cars, 4 buss, 8.3ms\n",
            "video 1/1 (105/150) /content/drive/MyDrive/Time Pass/sample.mp4: 480x640 4 cars, 5 buss, 23.2ms\n",
            "video 1/1 (106/150) /content/drive/MyDrive/Time Pass/sample.mp4: 480x640 5 cars, 5 buss, 17.0ms\n",
            "video 1/1 (107/150) /content/drive/MyDrive/Time Pass/sample.mp4: 480x640 3 cars, 6 buss, 21.7ms\n",
            "video 1/1 (108/150) /content/drive/MyDrive/Time Pass/sample.mp4: 480x640 4 cars, 3 buss, 22.2ms\n",
            "video 1/1 (109/150) /content/drive/MyDrive/Time Pass/sample.mp4: 480x640 4 cars, 4 buss, 17.1ms\n",
            "video 1/1 (110/150) /content/drive/MyDrive/Time Pass/sample.mp4: 480x640 4 cars, 6 buss, 8.0ms\n",
            "video 1/1 (111/150) /content/drive/MyDrive/Time Pass/sample.mp4: 480x640 3 cars, 7 buss, 14.1ms\n",
            "video 1/1 (112/150) /content/drive/MyDrive/Time Pass/sample.mp4: 480x640 3 cars, 7 buss, 11.6ms\n",
            "video 1/1 (113/150) /content/drive/MyDrive/Time Pass/sample.mp4: 480x640 3 cars, 8 buss, 20.5ms\n",
            "video 1/1 (114/150) /content/drive/MyDrive/Time Pass/sample.mp4: 480x640 5 cars, 7 buss, 27.5ms\n",
            "video 1/1 (115/150) /content/drive/MyDrive/Time Pass/sample.mp4: 480x640 4 cars, 8 buss, 19.6ms\n",
            "video 1/1 (116/150) /content/drive/MyDrive/Time Pass/sample.mp4: 480x640 5 cars, 6 buss, 12.9ms\n",
            "video 1/1 (117/150) /content/drive/MyDrive/Time Pass/sample.mp4: 480x640 4 cars, 7 buss, 10.0ms\n",
            "video 1/1 (118/150) /content/drive/MyDrive/Time Pass/sample.mp4: 480x640 4 cars, 8 buss, 9.8ms\n",
            "video 1/1 (119/150) /content/drive/MyDrive/Time Pass/sample.mp4: 480x640 4 cars, 7 buss, 8.9ms\n",
            "video 1/1 (120/150) /content/drive/MyDrive/Time Pass/sample.mp4: 480x640 5 cars, 8 buss, 8.7ms\n",
            "video 1/1 (121/150) /content/drive/MyDrive/Time Pass/sample.mp4: 480x640 4 cars, 8 buss, 8.2ms\n",
            "video 1/1 (122/150) /content/drive/MyDrive/Time Pass/sample.mp4: 480x640 6 cars, 7 buss, 9.3ms\n",
            "video 1/1 (123/150) /content/drive/MyDrive/Time Pass/sample.mp4: 480x640 7 cars, 7 buss, 19.4ms\n",
            "video 1/1 (124/150) /content/drive/MyDrive/Time Pass/sample.mp4: 480x640 6 cars, 8 buss, 8.6ms\n",
            "video 1/1 (125/150) /content/drive/MyDrive/Time Pass/sample.mp4: 480x640 8 cars, 9 buss, 8.8ms\n",
            "video 1/1 (126/150) /content/drive/MyDrive/Time Pass/sample.mp4: 480x640 7 cars, 8 buss, 17.6ms\n",
            "video 1/1 (127/150) /content/drive/MyDrive/Time Pass/sample.mp4: 480x640 8 cars, 8 buss, 7.1ms\n",
            "video 1/1 (128/150) /content/drive/MyDrive/Time Pass/sample.mp4: 480x640 8 cars, 8 buss, 7.8ms\n",
            "video 1/1 (129/150) /content/drive/MyDrive/Time Pass/sample.mp4: 480x640 8 cars, 9 buss, 8.2ms\n",
            "video 1/1 (130/150) /content/drive/MyDrive/Time Pass/sample.mp4: 480x640 8 cars, 10 buss, 10.2ms\n",
            "video 1/1 (131/150) /content/drive/MyDrive/Time Pass/sample.mp4: 480x640 8 cars, 9 buss, 6.7ms\n",
            "video 1/1 (132/150) /content/drive/MyDrive/Time Pass/sample.mp4: 480x640 7 cars, 9 buss, 17.4ms\n",
            "video 1/1 (133/150) /content/drive/MyDrive/Time Pass/sample.mp4: 480x640 8 cars, 8 buss, 1 truck, 7.5ms\n",
            "video 1/1 (134/150) /content/drive/MyDrive/Time Pass/sample.mp4: 480x640 6 cars, 9 buss, 6.7ms\n",
            "video 1/1 (135/150) /content/drive/MyDrive/Time Pass/sample.mp4: 480x640 7 cars, 7 buss, 6.8ms\n",
            "video 1/1 (136/150) /content/drive/MyDrive/Time Pass/sample.mp4: 480x640 8 cars, 7 buss, 1 truck, 14.6ms\n",
            "video 1/1 (137/150) /content/drive/MyDrive/Time Pass/sample.mp4: 480x640 7 cars, 9 buss, 7.7ms\n",
            "video 1/1 (138/150) /content/drive/MyDrive/Time Pass/sample.mp4: 480x640 7 cars, 8 buss, 7.3ms\n",
            "video 1/1 (139/150) /content/drive/MyDrive/Time Pass/sample.mp4: 480x640 8 cars, 7 buss, 17.3ms\n",
            "video 1/1 (140/150) /content/drive/MyDrive/Time Pass/sample.mp4: 480x640 7 cars, 9 buss, 7.9ms\n",
            "video 1/1 (141/150) /content/drive/MyDrive/Time Pass/sample.mp4: 480x640 7 cars, 7 buss, 1 truck, 9.6ms\n",
            "video 1/1 (142/150) /content/drive/MyDrive/Time Pass/sample.mp4: 480x640 7 cars, 7 buss, 6.6ms\n",
            "video 1/1 (143/150) /content/drive/MyDrive/Time Pass/sample.mp4: 480x640 8 cars, 7 buss, 1 cell phone, 8.2ms\n",
            "video 1/1 (144/150) /content/drive/MyDrive/Time Pass/sample.mp4: 480x640 8 cars, 8 buss, 1 truck, 1 parking meter, 8.7ms\n",
            "video 1/1 (145/150) /content/drive/MyDrive/Time Pass/sample.mp4: 480x640 8 cars, 7 buss, 2 trucks, 1 cell phone, 17.7ms\n",
            "video 1/1 (146/150) /content/drive/MyDrive/Time Pass/sample.mp4: 480x640 10 cars, 8 buss, 1 cell phone, 8.0ms\n",
            "video 1/1 (147/150) /content/drive/MyDrive/Time Pass/sample.mp4: 480x640 9 cars, 7 buss, 2 cell phones, 8.4ms\n",
            "video 1/1 (148/150) /content/drive/MyDrive/Time Pass/sample.mp4: 480x640 10 cars, 7 buss, 1 cell phone, 7.9ms\n",
            "video 1/1 (149/150) /content/drive/MyDrive/Time Pass/sample.mp4: 480x640 11 cars, 7 buss, 1 cell phone, 6.9ms\n",
            "video 1/1 (150/150) /content/drive/MyDrive/Time Pass/sample.mp4: 480x640 8 cars, 7 buss, 1 cell phone, 8.3ms\n",
            "Speed: 0.8ms pre-process, 11.6ms inference, 2.4ms postprocess per image at shape (1, 3, 640, 640)\n",
            "Results saved to \u001b[1m/content/HackTech_Showcasing/runs/detect/train\u001b[0m\n"
          ]
        }
      ]
    },
    {
      "cell_type": "code",
      "source": [],
      "metadata": {
        "id": "b0-mZZDE5PyH"
      },
      "execution_count": null,
      "outputs": []
    }
  ]
}